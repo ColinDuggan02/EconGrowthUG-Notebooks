{
 "cells": [
  {
   "cell_type": "code",
   "execution_count": 19,
   "id": "a82d9b9d-9cff-480c-b77a-f86476ef6296",
   "metadata": {},
   "outputs": [],
   "source": [
    "fav_artists = [\"Drake\", \"Gunna\", \"The Weeknd\", \"Young Thug\", \"Flume\", \"Billy Idol\", \"Future\", \"Lil Wayne\",\"Lil Uzi Vert\", \"Lil Baby\"]"
   ]
  },
  {
   "cell_type": "code",
   "execution_count": 56,
   "id": "1b2dd6e8-1ec2-40dc-b6ac-ff6df5c4fb47",
   "metadata": {},
   "outputs": [],
   "source": [
    "fav_songs = [\"Hotline Bling\", \"Sold out dates\", \"Die for you\", \"Hot\", \"Go\", \"Rebel Yell\", \"Draco\", \"6 foot, 7 foot\", \"Feelings mutual\", \"Close Friends\"]"
   ]
  },
  {
   "cell_type": "code",
   "execution_count": 57,
   "id": "7fade848-3494-46e8-a12c-653c193681b2",
   "metadata": {},
   "outputs": [],
   "source": [
    "artists_best_song = {\"Drake\": \"Hotline Bling\", \n",
    "                     \"Gunna\": \"Sold out dates\", \n",
    "                     \"The Weeknd\": \"die for you\", \n",
    "                     \"Young Thug\": \"Hot\", \n",
    "                     \"Flume\": \"Go\", \n",
    "                     \"Billy Idol\": \"Rebel Yell\", \n",
    "                     \"Future\": \"Draco\", \n",
    "                     \"Lil Wayne\": \"6 foot, 7 foot\",\n",
    "                     \"Lil Uzi Vert\": \"Feelings Mutual\", \n",
    "                     \"Lil Baby\": \"Close Friends\"}"
   ]
  },
  {
   "cell_type": "code",
   "execution_count": 59,
   "id": "550ff4c3-01c3-4f38-8e56-1a1d3806e50a",
   "metadata": {},
   "outputs": [],
   "source": [
    "fav_song_artist = {\"Hotline Bling\": \"Drake\", \n",
    "                     \"Sold out dates\": \"Gunna\", \n",
    "                     \"die for you\": \"The Weeknd\", \n",
    "                     \"Hot\": \"Young Thug\", \n",
    "                     \"Go\": \"Flume\", \n",
    "                     \"Rebel Yell\": \"Billy Idol\", \n",
    "                     \"Draco\": \"Future\", \n",
    "                     \"6 foot, 7 foot\": \"Lil Wayne\",\n",
    "                     \"Feelings Mutual\": \"Lil Uzi Vert\", \n",
    "                     \"Close Friends\": \"Lil Baby\"}\n"
   ]
  },
  {
   "cell_type": "code",
   "execution_count": null,
   "id": "595bdf70-5675-43ed-aa0a-1c053e0ae342",
   "metadata": {},
   "outputs": [],
   "source": []
  }
 ],
 "metadata": {
  "kernelspec": {
   "display_name": "Python 3 (ipykernel)",
   "language": "python",
   "name": "python3"
  },
  "language_info": {
   "codemirror_mode": {
    "name": "ipython",
    "version": 3
   },
   "file_extension": ".py",
   "mimetype": "text/x-python",
   "name": "python",
   "nbconvert_exporter": "python",
   "pygments_lexer": "ipython3",
   "version": "3.9.12"
  }
 },
 "nbformat": 4,
 "nbformat_minor": 5
}
